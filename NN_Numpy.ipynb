{
 "cells": [
  {
   "cell_type": "markdown",
   "metadata": {},
   "source": [
    "# FORWARD PROPAGATION, BACK PROPAGATION AND EPOCHS"
   ]
  },
  {
   "cell_type": "code",
   "execution_count": 1,
   "metadata": {
    "collapsed": true
   },
   "outputs": [],
   "source": [
    "import numpy as np"
   ]
  },
  {
   "cell_type": "markdown",
   "metadata": {},
   "source": [
    "## Hyper parameters"
   ]
  },
  {
   "cell_type": "code",
   "execution_count": 2,
   "metadata": {},
   "outputs": [
    {
     "name": "stdout",
     "output_type": "stream",
     "text": [
      "0.01\n"
     ]
    }
   ],
   "source": [
    "learning_rate = 0.01\n",
    "print learning_rate"
   ]
  },
  {
   "cell_type": "markdown",
   "metadata": {},
   "source": [
    "## Step 0: Read input and output"
   ]
  },
  {
   "cell_type": "code",
   "execution_count": 3,
   "metadata": {},
   "outputs": [
    {
     "name": "stdout",
     "output_type": "stream",
     "text": [
      "[[1 0 1 1]\n",
      " [1 1 0 1]\n",
      " [1 0 1 0]]\n"
     ]
    }
   ],
   "source": [
    "input_x1 = [1, 0, 1, 1]\n",
    "input_x2 = [1, 1, 0, 1]\n",
    "input_x3 = [1, 0, 1, 0]\n",
    "input_x = np.array([input_x1, input_x2, input_x3])\n",
    "print input_x"
   ]
  },
  {
   "cell_type": "code",
   "execution_count": 4,
   "metadata": {},
   "outputs": [
    {
     "name": "stdout",
     "output_type": "stream",
     "text": [
      "[[1]\n",
      " [1]\n",
      " [0]]\n"
     ]
    }
   ],
   "source": [
    "output_y1 = 1\n",
    "output_y2 = 1\n",
    "output_y3 = 0\n",
    "output_y = np.array([output_y1, output_y2, output_y3]).reshape(input_x.shape[0], 1)\n",
    "print output_y"
   ]
  },
  {
   "cell_type": "markdown",
   "metadata": {},
   "source": [
    "## Step 1: Initialize weights and biases with random values"
   ]
  },
  {
   "cell_type": "code",
   "execution_count": 5,
   "metadata": {},
   "outputs": [
    {
     "name": "stdout",
     "output_type": "stream",
     "text": [
      "4\n"
     ]
    }
   ],
   "source": [
    "n, input_channels = input_x.shape\n",
    "print input_channels"
   ]
  },
  {
   "cell_type": "code",
   "execution_count": 6,
   "metadata": {},
   "outputs": [
    {
     "name": "stdout",
     "output_type": "stream",
     "text": [
      "3\n"
     ]
    }
   ],
   "source": [
    "in_kernals =3\n",
    "print in_kernals"
   ]
  },
  {
   "cell_type": "code",
   "execution_count": 7,
   "metadata": {},
   "outputs": [
    {
     "name": "stdout",
     "output_type": "stream",
     "text": [
      "[[ 0.52  0.43  0.1 ]\n",
      " [ 0.34  0.7   0.3 ]\n",
      " [ 0.54  0.52  0.91]\n",
      " [ 0.43  0.62  0.48]]\n"
     ]
    }
   ],
   "source": [
    "wh = np.random.random_sample((input_channels * in_kernals,)).reshape(input_channels, in_kernals)\n",
    "wh = np.round(wh, decimals=2)\n",
    "print wh"
   ]
  },
  {
   "cell_type": "code",
   "execution_count": 8,
   "metadata": {},
   "outputs": [
    {
     "name": "stdout",
     "output_type": "stream",
     "text": [
      "[[ 0.78  0.2   0.53]]\n"
     ]
    }
   ],
   "source": [
    "bh = np.random.random_sample((in_kernals,)).reshape(1, in_kernals)\n",
    "bh = np.round(bh, decimals=2)\n",
    "print bh"
   ]
  },
  {
   "cell_type": "markdown",
   "metadata": {},
   "source": [
    "## Step 2: Calculate hidden layer input"
   ]
  },
  {
   "cell_type": "markdown",
   "metadata": {},
   "source": [
    "hidden_layer_input = matrix_dot_product(X,wh) + bh"
   ]
  },
  {
   "cell_type": "code",
   "execution_count": 9,
   "metadata": {},
   "outputs": [
    {
     "name": "stdout",
     "output_type": "stream",
     "text": [
      "[[ 2.27  1.77  2.02]\n",
      " [ 2.07  1.95  1.41]\n",
      " [ 1.84  1.15  1.54]]\n"
     ]
    }
   ],
   "source": [
    "hidden_layer_input = np.dot(input_x, wh) + bh\n",
    "print hidden_layer_input"
   ]
  },
  {
   "cell_type": "markdown",
   "metadata": {},
   "source": [
    "## Step 3: Perform non-linear transformation on hidden linear input"
   ]
  },
  {
   "cell_type": "markdown",
   "metadata": {},
   "source": [
    "hiddenlayer_activations = sigmoid(hidden_layer_input)"
   ]
  },
  {
   "cell_type": "code",
   "execution_count": 10,
   "metadata": {
    "collapsed": true
   },
   "outputs": [],
   "source": [
    "import math\n",
    "\n",
    "def sigmoid(x):\n",
    "  return 1 / (1 + math.exp(-x))"
   ]
  },
  {
   "cell_type": "code",
   "execution_count": 11,
   "metadata": {},
   "outputs": [
    {
     "name": "stdout",
     "output_type": "stream",
     "text": [
      "[[ 0.91  0.85  0.88]\n",
      " [ 0.89  0.88  0.8 ]\n",
      " [ 0.86  0.76  0.82]]\n"
     ]
    }
   ],
   "source": [
    "hidden_layer_activations = [[sigmoid(hidden_layer_input[i,j]) for j in range(hidden_layer_input.shape[1])] for i in range(hidden_layer_input.shape[0])]\n",
    "hidden_layer_activations = np.round(hidden_layer_activations, decimals=2)\n",
    "print hidden_layer_activations"
   ]
  },
  {
   "cell_type": "markdown",
   "metadata": {},
   "source": [
    "### Step 4: Perform linear and non-linear transformation of hidden layer activation at output layer"
   ]
  },
  {
   "cell_type": "code",
   "execution_count": 12,
   "metadata": {},
   "outputs": [
    {
     "name": "stdout",
     "output_type": "stream",
     "text": [
      "1\n"
     ]
    }
   ],
   "source": [
    "out_kernals = 1\n",
    "print out_kernals"
   ]
  },
  {
   "cell_type": "code",
   "execution_count": 13,
   "metadata": {},
   "outputs": [
    {
     "name": "stdout",
     "output_type": "stream",
     "text": [
      "3\n"
     ]
    }
   ],
   "source": [
    "out_channels = 3\n",
    "print out_channels"
   ]
  },
  {
   "cell_type": "code",
   "execution_count": 14,
   "metadata": {},
   "outputs": [
    {
     "name": "stdout",
     "output_type": "stream",
     "text": [
      "[[ 0.37]\n",
      " [ 0.27]\n",
      " [ 0.62]]\n"
     ]
    }
   ],
   "source": [
    "wout = np.random.random_sample(out_kernals * out_channels).reshape(out_channels, out_kernals)\n",
    "wout = np.round(wout, decimals=2)\n",
    "print wout"
   ]
  },
  {
   "cell_type": "code",
   "execution_count": 15,
   "metadata": {},
   "outputs": [
    {
     "name": "stdout",
     "output_type": "stream",
     "text": [
      "[ 0.33]\n"
     ]
    }
   ],
   "source": [
    "bout = np.random.random_sample(out_kernals)\n",
    "bout = np.round(bout, decimals=2)\n",
    "print bout"
   ]
  },
  {
   "cell_type": "markdown",
   "metadata": {},
   "source": [
    "output_layer_input = matrix_dot_product (hidden_layer_activations * wout ) + bout"
   ]
  },
  {
   "cell_type": "code",
   "execution_count": 16,
   "metadata": {},
   "outputs": [
    {
     "name": "stdout",
     "output_type": "stream",
     "text": [
      "[[ 1.44]\n",
      " [ 1.39]\n",
      " [ 1.36]]\n"
     ]
    }
   ],
   "source": [
    "output_layer_input = np.dot(hidden_layer_activations, wout) + bout\n",
    "output_layer_input = output_layer_input.round(decimals=2)\n",
    "print output_layer_input"
   ]
  },
  {
   "cell_type": "markdown",
   "metadata": {},
   "source": [
    "output = sigmoid(output_layer_input)"
   ]
  },
  {
   "cell_type": "code",
   "execution_count": 17,
   "metadata": {},
   "outputs": [
    {
     "name": "stdout",
     "output_type": "stream",
     "text": [
      "[[ 1.44]\n",
      " [ 1.39]\n",
      " [ 1.36]]\n"
     ]
    }
   ],
   "source": [
    "output = [[sigmoid(output_layer_input[i,j]) for j in range(output_layer_input.shape[1])] for i in range(output_layer_input.shape[0])]\n",
    "output = np.round(output_layer_input, decimals=2)\n",
    "print output"
   ]
  },
  {
   "cell_type": "markdown",
   "metadata": {},
   "source": [
    "## Step 5: Calculate gradient of Error(E) at output layer"
   ]
  },
  {
   "cell_type": "markdown",
   "metadata": {},
   "source": [
    "E = y - output"
   ]
  },
  {
   "cell_type": "code",
   "execution_count": 18,
   "metadata": {},
   "outputs": [
    {
     "name": "stdout",
     "output_type": "stream",
     "text": [
      "[[-0.44]\n",
      " [-0.39]\n",
      " [-1.36]]\n"
     ]
    }
   ],
   "source": [
    "E = output_y - output\n",
    "print E"
   ]
  },
  {
   "cell_type": "markdown",
   "metadata": {},
   "source": [
    "## Step 6: Compute slope at output and hidden layer"
   ]
  },
  {
   "cell_type": "markdown",
   "metadata": {},
   "source": [
    "f = 1/(1+exp(-x))\n",
    "df = f * (1 - f)"
   ]
  },
  {
   "cell_type": "code",
   "execution_count": 19,
   "metadata": {
    "collapsed": true
   },
   "outputs": [],
   "source": [
    "def derivatives_sigmoid(x):\n",
    "    return sigmoid(x) * (1 - sigmoid(x))"
   ]
  },
  {
   "cell_type": "markdown",
   "metadata": {},
   "source": [
    "Slope_output_layer = derivatives_sigmoid(output)"
   ]
  },
  {
   "cell_type": "code",
   "execution_count": 20,
   "metadata": {},
   "outputs": [
    {
     "name": "stdout",
     "output_type": "stream",
     "text": [
      "[[ 0.15]\n",
      " [ 0.16]\n",
      " [ 0.16]]\n"
     ]
    }
   ],
   "source": [
    "slope_output_layer = np.array([[derivatives_sigmoid(output[i,j]) for j in range(output.shape[1])] for i in range(output.shape[0])])\n",
    "slope_output_layer = slope_output_layer.round(decimals=2)\n",
    "print slope_output_layer"
   ]
  },
  {
   "cell_type": "markdown",
   "metadata": {},
   "source": [
    "Slope_hidden_layer = derivatives_sigmoid(hiddenlayer_activations)"
   ]
  },
  {
   "cell_type": "code",
   "execution_count": 21,
   "metadata": {},
   "outputs": [
    {
     "name": "stdout",
     "output_type": "stream",
     "text": [
      "[[ 0.2   0.21  0.21]\n",
      " [ 0.21  0.21  0.21]\n",
      " [ 0.21  0.22  0.21]]\n"
     ]
    }
   ],
   "source": [
    "slope_hidden_layer = np.array([[derivatives_sigmoid(hidden_layer_activations[i,j]) for j in range(hidden_layer_activations.shape[1])] for i in range(hidden_layer_activations.shape[0])])\n",
    "slope_hidden_layer = slope_hidden_layer.round(decimals=2)\n",
    "print slope_hidden_layer"
   ]
  },
  {
   "cell_type": "markdown",
   "metadata": {},
   "source": [
    "## Step 7: Compute delta at output layer"
   ]
  },
  {
   "cell_type": "markdown",
   "metadata": {},
   "source": [
    "d_output = E \\* slope_output_layer \\* lr"
   ]
  },
  {
   "cell_type": "code",
   "execution_count": 22,
   "metadata": {},
   "outputs": [
    {
     "name": "stdout",
     "output_type": "stream",
     "text": [
      "[[-0.00066 ]\n",
      " [-0.000624]\n",
      " [-0.002176]]\n"
     ]
    }
   ],
   "source": [
    "d_output = E * slope_output_layer * learning_rate\n",
    "print d_output"
   ]
  },
  {
   "cell_type": "markdown",
   "metadata": {},
   "source": [
    "## Step 8: Calculate Error at hidden layer"
   ]
  },
  {
   "cell_type": "markdown",
   "metadata": {},
   "source": [
    "Error_at_hidden_layer = matrix_dot_product(d_output, wout.Transpose)"
   ]
  },
  {
   "cell_type": "code",
   "execution_count": 23,
   "metadata": {},
   "outputs": [
    {
     "name": "stdout",
     "output_type": "stream",
     "text": [
      "[[-0.0002442  -0.0001782  -0.0004092 ]\n",
      " [-0.00023088 -0.00016848 -0.00038688]\n",
      " [-0.00080512 -0.00058752 -0.00134912]]\n"
     ]
    }
   ],
   "source": [
    "error_at_hidden_layer = np.dot(d_output, wout.T)\n",
    "print error_at_hidden_layer"
   ]
  },
  {
   "cell_type": "markdown",
   "metadata": {},
   "source": [
    "## Step 9: Compute delta at hidden layer"
   ]
  },
  {
   "cell_type": "markdown",
   "metadata": {},
   "source": [
    "d_hiddenlayer = Error_at_hidden_layer * slope_hidden_layer"
   ]
  },
  {
   "cell_type": "code",
   "execution_count": 24,
   "metadata": {
    "scrolled": true
   },
   "outputs": [
    {
     "name": "stdout",
     "output_type": "stream",
     "text": [
      "[[ -4.88400000e-05  -3.74220000e-05  -8.59320000e-05]\n",
      " [ -4.84848000e-05  -3.53808000e-05  -8.12448000e-05]\n",
      " [ -1.69075200e-04  -1.29254400e-04  -2.83315200e-04]]\n"
     ]
    }
   ],
   "source": [
    "d_hidden_layer = error_at_hidden_layer * slope_hidden_layer\n",
    "print d_hidden_layer"
   ]
  },
  {
   "cell_type": "markdown",
   "metadata": {},
   "source": [
    "## Step 10: Update weight at both output and hidden layer"
   ]
  },
  {
   "cell_type": "markdown",
   "metadata": {},
   "source": [
    "wout = wout + matrix_dot_product (hiddenlayer_activations.Transpose, d_output) * learning_rate"
   ]
  },
  {
   "cell_type": "code",
   "execution_count": 25,
   "metadata": {},
   "outputs": [
    {
     "name": "stdout",
     "output_type": "stream",
     "text": [
      "[[ 0.37]\n",
      " [ 0.27]\n",
      " [ 0.62]]\n",
      "[[ 0.36996954]\n",
      " [ 0.26997123]\n",
      " [ 0.61997174]]\n"
     ]
    }
   ],
   "source": [
    "print wout\n",
    "wout = wout + np.dot(hidden_layer_activations, d_output) * learning_rate\n",
    "print wout"
   ]
  },
  {
   "cell_type": "markdown",
   "metadata": {},
   "source": [
    "wh = wh+ matrix_dot_product (X.Transpose,d_hiddenlayer) * learning_rate"
   ]
  },
  {
   "cell_type": "code",
   "execution_count": 26,
   "metadata": {},
   "outputs": [
    {
     "name": "stdout",
     "output_type": "stream",
     "text": [
      "[[ 0.52  0.43  0.1 ]\n",
      " [ 0.34  0.7   0.3 ]\n",
      " [ 0.54  0.52  0.91]\n",
      " [ 0.43  0.62  0.48]]\n",
      "[[ 0.51999734  0.42999798  0.0999955 ]\n",
      " [ 0.33999952  0.69999965  0.29999919]\n",
      " [ 0.53999782  0.51999833  0.90999631]\n",
      " [ 0.42999903  0.61999927  0.47999833]]\n"
     ]
    }
   ],
   "source": [
    "print wh\n",
    "wh = wh + np.dot(input_x.T, d_hidden_layer) * learning_rate\n",
    "print wh"
   ]
  },
  {
   "cell_type": "markdown",
   "metadata": {},
   "source": [
    "## Step 11: Update biases at both output and hidden layer"
   ]
  },
  {
   "cell_type": "markdown",
   "metadata": {},
   "source": [
    "bh = bh + sum(d_hiddenlayer, axis=0) * learning_rate"
   ]
  },
  {
   "cell_type": "code",
   "execution_count": 27,
   "metadata": {},
   "outputs": [
    {
     "name": "stdout",
     "output_type": "stream",
     "text": [
      "[[ 0.78  0.2   0.53]]\n",
      "[[ 0.77999734  0.19999798  0.5299955 ]]\n"
     ]
    }
   ],
   "source": [
    "print bh\n",
    "bh = bh + np.sum(d_hidden_layer, axis=0) * learning_rate\n",
    "print bh"
   ]
  },
  {
   "cell_type": "markdown",
   "metadata": {},
   "source": [
    "bout = bout + sum(d_output, axis=0)*learning_rate"
   ]
  },
  {
   "cell_type": "code",
   "execution_count": 28,
   "metadata": {},
   "outputs": [
    {
     "name": "stdout",
     "output_type": "stream",
     "text": [
      "[ 0.33]\n",
      "[ 0.3299654]\n"
     ]
    }
   ],
   "source": [
    "print bout\n",
    "bout = bout + np.sum(d_output, axis=0) * learning_rate\n",
    "print bout"
   ]
  }
 ],
 "metadata": {
  "kernelspec": {
   "display_name": "Python 2",
   "language": "python",
   "name": "python2"
  },
  "language_info": {
   "codemirror_mode": {
    "name": "ipython",
    "version": 2
   },
   "file_extension": ".py",
   "mimetype": "text/x-python",
   "name": "python",
   "nbconvert_exporter": "python",
   "pygments_lexer": "ipython2",
   "version": "2.7.13"
  }
 },
 "nbformat": 4,
 "nbformat_minor": 2
}
