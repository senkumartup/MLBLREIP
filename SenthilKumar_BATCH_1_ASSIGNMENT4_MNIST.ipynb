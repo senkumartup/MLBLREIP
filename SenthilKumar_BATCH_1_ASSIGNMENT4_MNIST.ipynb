{
 "cells": [
  {
   "cell_type": "markdown",
   "metadata": {},
   "source": [
    "# MNIST - Simple CNNs using Keras"
   ]
  },
  {
   "cell_type": "markdown",
   "metadata": {},
   "source": [
    "### Import packages"
   ]
  },
  {
   "cell_type": "code",
   "execution_count": 2,
   "metadata": {
    "colab": {
     "autoexec": {
      "startup": false,
      "wait_interval": 0
     }
    },
    "colab_type": "code",
    "id": "3m3w1Cw49Zkt"
   },
   "outputs": [
    {
     "name": "stderr",
     "output_type": "stream",
     "text": [
      "/home/ssk/anaconda2/lib/python2.7/site-packages/h5py/__init__.py:36: FutureWarning: Conversion of the second argument of issubdtype from `float` to `np.floating` is deprecated. In future, it will be treated as `np.float64 == np.dtype(float).type`.\n",
      "  from ._conv import register_converters as _register_converters\n",
      "Using TensorFlow backend.\n"
     ]
    }
   ],
   "source": [
    "# https://keras.io/\n",
    "!pip install -q keras\n",
    "\n",
    "#https://www.tensorflow.org/programmers_guide/summaries_and_tensorboard\n",
    "!pip install -q tensorboard\n",
    "\n",
    "import keras\n",
    "import tensorflow as tf\n",
    "import numpy as np\n",
    "\n",
    "import numpy as np\n",
    "\n",
    "from keras.models import Sequential\n",
    "from keras.layers import Dense, Dropout, Activation, Flatten, Add\n",
    "from keras.layers import Convolution2D, MaxPooling2D\n",
    "from keras.utils import np_utils"
   ]
  },
  {
   "cell_type": "code",
   "execution_count": 7,
   "metadata": {},
   "outputs": [
    {
     "name": "stdout",
     "output_type": "stream",
     "text": [
      "1.6.0\n"
     ]
    }
   ],
   "source": [
    "print tf.__version__"
   ]
  },
  {
   "cell_type": "code",
   "execution_count": 8,
   "metadata": {},
   "outputs": [
    {
     "name": "stdout",
     "output_type": "stream",
     "text": [
      "[name: \"/device:CPU:0\"\n",
      "device_type: \"CPU\"\n",
      "memory_limit: 268435456\n",
      "locality {\n",
      "}\n",
      "incarnation: 14299417612984319039\n",
      ", name: \"/device:GPU:0\"\n",
      "device_type: \"GPU\"\n",
      "memory_limit: 1505230848\n",
      "locality {\n",
      "  bus_id: 1\n",
      "}\n",
      "incarnation: 8609415644783001108\n",
      "physical_device_desc: \"device: 0, name: GeForce GT 755M, pci bus id: 0000:01:00.0, compute capability: 3.0\"\n",
      "]\n"
     ]
    }
   ],
   "source": [
    "from tensorflow.python.client import device_lib\n",
    "print(device_lib.list_local_devices())"
   ]
  },
  {
   "cell_type": "code",
   "execution_count": 9,
   "metadata": {},
   "outputs": [
    {
     "name": "stdout",
     "output_type": "stream",
     "text": [
      "2.1.5\n"
     ]
    }
   ],
   "source": [
    "print keras.__version__"
   ]
  },
  {
   "cell_type": "markdown",
   "metadata": {
    "colab_type": "text",
    "id": "zByEi95J86RD"
   },
   "source": [
    "### Load pre-shuffled MNIST data into train and test sets"
   ]
  },
  {
   "cell_type": "code",
   "execution_count": 10,
   "metadata": {
    "colab": {
     "autoexec": {
      "startup": false,
      "wait_interval": 0
     },
     "base_uri": "https://localhost:8080/",
     "height": 51
    },
    "colab_type": "code",
    "executionInfo": {
     "elapsed": 1411,
     "status": "ok",
     "timestamp": 1521864801960,
     "user": {
      "displayName": "Rohan Shravan",
      "photoUrl": "https://lh3.googleusercontent.com/a/default-user=s128",
      "userId": "116259693572096743881"
     },
     "user_tz": -330
    },
    "id": "7eRM0QWN83PV",
    "outputId": "11f2c2b0-15c2-4b17-b2c7-38a62d689031"
   },
   "outputs": [],
   "source": [
    "(x_train, y_train), (x_test, y_test) = keras.datasets.mnist.load_data()"
   ]
  },
  {
   "cell_type": "code",
   "execution_count": 11,
   "metadata": {
    "colab": {
     "autoexec": {
      "startup": false,
      "wait_interval": 0
     },
     "base_uri": "https://localhost:8080/",
     "height": 299
    },
    "colab_type": "code",
    "executionInfo": {
     "elapsed": 713,
     "status": "ok",
     "timestamp": 1521864804311,
     "user": {
      "displayName": "Rohan Shravan",
      "photoUrl": "https://lh3.googleusercontent.com/a/default-user=s128",
      "userId": "116259693572096743881"
     },
     "user_tz": -330
    },
    "id": "4a4Be72j8-ZC",
    "outputId": "628a97c2-a516-4470-d2c8-b9f2e21ff451"
   },
   "outputs": [
    {
     "name": "stdout",
     "output_type": "stream",
     "text": [
      "(60000, 28, 28)\n",
      "(60000,)\n",
      "(10000, 28, 28)\n",
      "(10000,)\n"
     ]
    }
   ],
   "source": [
    "print (x_train.shape)\n",
    "print (y_train.shape)\n",
    "print (x_test.shape)\n",
    "print (y_test.shape)"
   ]
  },
  {
   "cell_type": "code",
   "execution_count": 12,
   "metadata": {},
   "outputs": [
    {
     "name": "stdout",
     "output_type": "stream",
     "text": [
      "5\n"
     ]
    },
    {
     "data": {
      "image/png": "[encoded data removed]",
      "text/plain": [
       "<Figure size 432x288 with 1 Axes>"
      ]
     },
     "metadata": {},
     "output_type": "display_data"
    }
   ],
   "source": [
    "# Display a sample\n",
    "\n",
    "%matplotlib inline\n",
    "from matplotlib import pyplot as plt\n",
    "plt.imshow(x_train[0])\n",
    "print y_train[0]"
   ]
  },
  {
   "cell_type": "markdown",
   "metadata": {},
   "source": [
    "### Training and Test data prepration"
   ]
  },
  {
   "cell_type": "code",
   "execution_count": 13,
   "metadata": {
    "colab": {
     "autoexec": {
      "startup": false,
      "wait_interval": 0
     }
    },
    "colab_type": "code",
    "id": "dkmprriw9AnZ"
   },
   "outputs": [
    {
     "name": "stdout",
     "output_type": "stream",
     "text": [
      "(60000, 28, 28)\n",
      "(60000, 28, 28, 1)\n",
      "(10000, 28, 28)\n",
      "(10000, 28, 28, 1)\n"
     ]
    }
   ],
   "source": [
    "# Add channel - Reshape\n",
    "# (60000, 28, 28) => (60000, 28, 28, 1),\n",
    "# (10000, 28, 28) => (10000, 28, 28, 1)\n",
    "\n",
    "print (x_train.shape)\n",
    "x_train = x_train.reshape(x_train.shape[0], 28, 28,1)\n",
    "print (x_train.shape)\n",
    "\n",
    "print (x_test.shape)\n",
    "x_test = x_test.reshape(x_test.shape[0], 28, 28,1)\n",
    "print (x_test.shape)"
   ]
  },
  {
   "cell_type": "code",
   "execution_count": 14,
   "metadata": {
    "colab": {
     "autoexec": {
      "startup": false,
      "wait_interval": 0
     }
    },
    "colab_type": "code",
    "id": "X2m4YS4E9CRh"
   },
   "outputs": [],
   "source": [
    "#Normalize Inputs\n",
    "x_train = x_train.astype('float32')\n",
    "x_test = x_test.astype('float32')\n",
    "X_train = x_train/255\n",
    "X_test = x_test/255"
   ]
  },
  {
   "cell_type": "code",
   "execution_count": 15,
   "metadata": {
    "colab": {
     "autoexec": {
      "startup": false,
      "wait_interval": 0
     },
     "base_uri": "https://localhost:8080/",
     "height": 34
    },
    "colab_type": "code",
    "executionInfo": {
     "elapsed": 718,
     "status": "ok",
     "timestamp": 1521864840144,
     "user": {
      "displayName": "Rohan Shravan",
      "photoUrl": "https://lh3.googleusercontent.com/a/default-user=s128",
      "userId": "116259693572096743881"
     },
     "user_tz": -330
    },
    "id": "0Mn0vAYD9DvB",
    "outputId": "7449b5c2-b754-4de4-aca8-334c3e066f8e"
   },
   "outputs": [
    {
     "data": {
      "text/plain": [
       "array([5, 0, 4, 1, 9, 2, 1, 3, 1, 4], dtype=uint8)"
      ]
     },
     "execution_count": 15,
     "metadata": {},
     "output_type": "execute_result"
    }
   ],
   "source": [
    "y_train[:10]"
   ]
  },
  {
   "cell_type": "code",
   "execution_count": 16,
   "metadata": {
    "colab": {
     "autoexec": {
      "startup": false,
      "wait_interval": 0
     }
    },
    "colab_type": "code",
    "id": "ZG8JiXR39FHC"
   },
   "outputs": [],
   "source": [
    "# Convert 1-dimensional class arrays to 10-dimensional class matrices\n",
    "Y_train = keras.utils.np_utils.to_categorical(y_train, 10)\n",
    "Y_test = keras.utils.np_utils.to_categorical(y_test, 10)"
   ]
  },
  {
   "cell_type": "code",
   "execution_count": 17,
   "metadata": {
    "colab": {
     "autoexec": {
      "startup": false,
      "wait_interval": 0
     },
     "base_uri": "https://localhost:8080/",
     "height": 185
    },
    "colab_type": "code",
    "executionInfo": {
     "elapsed": 713,
     "status": "ok",
     "timestamp": 1521864843486,
     "user": {
      "displayName": "Rohan Shravan",
      "photoUrl": "https://lh3.googleusercontent.com/a/default-user=s128",
      "userId": "116259693572096743881"
     },
     "user_tz": -330
    },
    "id": "fYlFRvKS9HMB",
    "outputId": "deedbf1d-34d3-46da-a810-917c84df506e"
   },
   "outputs": [
    {
     "data": {
      "text/plain": [
       "array([[0., 0., 0., 0., 0., 1., 0., 0., 0., 0.],\n",
       "       [1., 0., 0., 0., 0., 0., 0., 0., 0., 0.],\n",
       "       [0., 0., 0., 0., 1., 0., 0., 0., 0., 0.],\n",
       "       [0., 1., 0., 0., 0., 0., 0., 0., 0., 0.],\n",
       "       [0., 0., 0., 0., 0., 0., 0., 0., 0., 1.],\n",
       "       [0., 0., 1., 0., 0., 0., 0., 0., 0., 0.],\n",
       "       [0., 1., 0., 0., 0., 0., 0., 0., 0., 0.],\n",
       "       [0., 0., 0., 1., 0., 0., 0., 0., 0., 0.],\n",
       "       [0., 1., 0., 0., 0., 0., 0., 0., 0., 0.],\n",
       "       [0., 0., 0., 0., 1., 0., 0., 0., 0., 0.]])"
      ]
     },
     "execution_count": 17,
     "metadata": {},
     "output_type": "execute_result"
    }
   ],
   "source": [
    "Y_train[:10]"
   ]
  },
  {
   "cell_type": "code",
   "execution_count": 18,
   "metadata": {},
   "outputs": [
    {
     "name": "stdout",
     "output_type": "stream",
     "text": [
      "784\n"
     ]
    }
   ],
   "source": [
    "num_pixels = X_train.shape[1] * X_train.shape[2]\n",
    "print num_pixels"
   ]
  },
  {
   "cell_type": "code",
   "execution_count": 19,
   "metadata": {},
   "outputs": [
    {
     "name": "stdout",
     "output_type": "stream",
     "text": [
      "10\n"
     ]
    }
   ],
   "source": [
    "num_classes = Y_train.shape[1]\n",
    "print num_classes"
   ]
  },
  {
   "cell_type": "markdown",
   "metadata": {},
   "source": [
    "## Tensorflow setup"
   ]
  },
  {
   "cell_type": "code",
   "execution_count": 4,
   "metadata": {},
   "outputs": [],
   "source": [
    "import tensorflow as tf\n",
    "run_opts = tf.RunOptions(report_tensor_allocations_upon_oom = True)"
   ]
  },
  {
   "cell_type": "code",
   "execution_count": 5,
   "metadata": {},
   "outputs": [],
   "source": [
    "#Tensor Board\n",
    "from keras.callbacks import TensorBoard\n",
    "from time import time\n",
    "\n",
    "tensorboard = TensorBoard(log_dir=\"logs/{}\".format(time()))"
   ]
  },
  {
   "cell_type": "markdown",
   "metadata": {},
   "source": [
    "### Monitoring progress with Tensor Board\n",
    "Now that you have a tensorboard instance hooked up you can start to monitor the program by executing the following command in a separate terminal:\n",
    "\n",
    "```tensorboard --logdir=logs/```"
   ]
  },
  {
   "cell_type": "markdown",
   "metadata": {},
   "source": [
    "## 1 of 4) CNN Model - Orginal"
   ]
  },
  {
   "cell_type": "code",
   "execution_count": 17,
   "metadata": {
    "scrolled": true
   },
   "outputs": [
    {
     "name": "stdout",
     "output_type": "stream",
     "text": [
      "_________________________________________________________________\n",
      "Layer (type)                 Output Shape              Param #   \n",
      "=================================================================\n",
      "conv2d_1 (Conv2D)            (None, 26, 26, 32)        320       \n",
      "_________________________________________________________________\n",
      "conv2d_2 (Conv2D)            (None, 26, 26, 10)        330       \n",
      "_________________________________________________________________\n",
      "conv2d_3 (Conv2D)            (None, 1, 1, 10)          67610     \n",
      "_________________________________________________________________\n",
      "flatten_1 (Flatten)          (None, 10)                0         \n",
      "_________________________________________________________________\n",
      "activation_1 (Activation)    (None, 10)                0         \n",
      "=================================================================\n",
      "Total params: 68,260\n",
      "Trainable params: 68,260\n",
      "Non-trainable params: 0\n",
      "_________________________________________________________________\n"
     ]
    }
   ],
   "source": [
    "model = keras.models.Sequential()\n",
    "model.add(keras.layers.Conv2D(32, (3, 3), activation='relu', input_shape=(28,28,1)))\n",
    "model.add(keras.layers.Conv2D(10, (1, 1), activation='relu'))\n",
    "model.add(keras.layers.Conv2D(num_classes, 26))\n",
    "model.add(keras.layers.Flatten())\n",
    "model.add(keras.layers.Activation('softmax'))\n",
    "model.summary()"
   ]
  },
  {
   "cell_type": "code",
   "execution_count": 18,
   "metadata": {},
   "outputs": [],
   "source": [
    "#Compile model\n",
    "model.compile(loss='categorical_crossentropy',\n",
    "             optimizer='adam',\n",
    "             metrics=['accuracy'],\n",
    "             options=run_opts)"
   ]
  },
  {
   "cell_type": "code",
   "execution_count": 19,
   "metadata": {},
   "outputs": [
    {
     "name": "stdout",
     "output_type": "stream",
     "text": [
      "Epoch 1/10\n",
      "60000/60000 [==============================] - 115s 2ms/step - loss: 0.2003 - acc: 0.9430\n",
      "Epoch 2/10\n",
      "60000/60000 [==============================] - 89s 1ms/step - loss: 0.0753 - acc: 0.9780\n",
      "Epoch 3/10\n",
      "60000/60000 [==============================] - 102s 2ms/step - loss: 0.0580 - acc: 0.9826\n",
      "Epoch 4/10\n",
      "60000/60000 [==============================] - 106s 2ms/step - loss: 0.0467 - acc: 0.9854\n",
      "Epoch 5/10\n",
      "60000/60000 [==============================] - 118s 2ms/step - loss: 0.0382 - acc: 0.9877\n",
      "Epoch 6/10\n",
      "60000/60000 [==============================] - 119s 2ms/step - loss: 0.0316 - acc: 0.9902\n",
      "Epoch 7/10\n",
      "60000/60000 [==============================] - 120s 2ms/step - loss: 0.0252 - acc: 0.9919\n",
      "Epoch 8/10\n",
      "60000/60000 [==============================] - 119s 2ms/step - loss: 0.0202 - acc: 0.9934\n",
      "Epoch 9/10\n",
      "60000/60000 [==============================] - 90s 1ms/step - loss: 0.0161 - acc: 0.9950\n",
      "Epoch 10/10\n",
      "60000/60000 [==============================] - 136s 2ms/step - loss: 0.0134 - acc: 0.9956\n"
     ]
    },
    {
     "data": {
      "text/plain": [
       "<keras.callbacks.History at 0x7fb6436f24d0>"
      ]
     },
     "execution_count": 19,
     "metadata": {},
     "output_type": "execute_result"
    }
   ],
   "source": [
    "#Train\n",
    "model.fit(X_train, Y_train, batch_size=32, epochs=10, verbose=1, callbacks=[tensorboard])"
   ]
  },
  {
   "cell_type": "code",
   "execution_count": 20,
   "metadata": {},
   "outputs": [
    {
     "name": "stdout",
     "output_type": "stream",
     "text": [
      "10000/10000 [==============================] - 8s 769us/step\n",
      "[0.0901504402341583, 0.9795]\n",
      "['loss', 'acc']\n"
     ]
    }
   ],
   "source": [
    "#Evaluate\n",
    "score = model.evaluate(X_test, Y_test, verbose=1)\n",
    "print(score)\n",
    "print model.metrics_names"
   ]
  },
  {
   "cell_type": "markdown",
   "metadata": {},
   "source": [
    "## 2 of 4) Custom CNN Model - #1"
   ]
  },
  {
   "cell_type": "code",
   "execution_count": 21,
   "metadata": {},
   "outputs": [
    {
     "name": "stdout",
     "output_type": "stream",
     "text": [
      "_________________________________________________________________\n",
      "Layer (type)                 Output Shape              Param #   \n",
      "=================================================================\n",
      "conv2d_4 (Conv2D)            (None, 26, 26, 32)        320       \n",
      "_________________________________________________________________\n",
      "max_pooling2d_1 (MaxPooling2 (None, 13, 13, 32)        0         \n",
      "_________________________________________________________________\n",
      "conv2d_5 (Conv2D)            (None, 13, 13, 10)        330       \n",
      "_________________________________________________________________\n",
      "conv2d_6 (Conv2D)            (None, 1, 1, 10)          16910     \n",
      "_________________________________________________________________\n",
      "flatten_2 (Flatten)          (None, 10)                0         \n",
      "_________________________________________________________________\n",
      "activation_2 (Activation)    (None, 10)                0         \n",
      "=================================================================\n",
      "Total params: 17,560\n",
      "Trainable params: 17,560\n",
      "Non-trainable params: 0\n",
      "_________________________________________________________________\n"
     ]
    }
   ],
   "source": [
    "model = keras.models.Sequential()\n",
    "model.add(keras.layers.Conv2D(32, (3, 3), activation='relu', input_shape=(28,28,1)))\n",
    "model.add(keras.layers.MaxPool2D(pool_size=(2, 2)))\n",
    "model.add(keras.layers.Conv2D(10, (1, 1), activation='relu'))\n",
    "model.add(keras.layers.Conv2D(num_classes, 13))\n",
    "model.add(keras.layers.Flatten())\n",
    "model.add(keras.layers.Activation('softmax'))\n",
    "model.summary()"
   ]
  },
  {
   "cell_type": "code",
   "execution_count": 22,
   "metadata": {},
   "outputs": [],
   "source": [
    "#Compile model\n",
    "model.compile(loss='categorical_crossentropy',\n",
    "             optimizer='adam',\n",
    "             metrics=['accuracy'],\n",
    "             options=run_opts)"
   ]
  },
  {
   "cell_type": "code",
   "execution_count": null,
   "metadata": {},
   "outputs": [
    {
     "name": "stdout",
     "output_type": "stream",
     "text": [
      "Epoch 1/10\n",
      "60000/60000 [==============================] - 71s 1ms/step - loss: 0.2612 - acc: 0.9232\n",
      "Epoch 2/10\n",
      "60000/60000 [==============================] - 70s 1ms/step - loss: 0.0983 - acc: 0.9713\n",
      "Epoch 3/10\n",
      "60000/60000 [==============================] - 80s 1ms/step - loss: 0.0761 - acc: 0.9766\n",
      "Epoch 4/10\n",
      "60000/60000 [==============================] - 77s 1ms/step - loss: 0.0634 - acc: 0.9811\n",
      "Epoch 5/10\n",
      "60000/60000 [==============================] - 83s 1ms/step - loss: 0.0549 - acc: 0.9824\n",
      "Epoch 6/10\n",
      "60000/60000 [==============================] - 76s 1ms/step - loss: 0.0477 - acc: 0.9851\n",
      "Epoch 7/10\n",
      "60000/60000 [==============================] - 78s 1ms/step - loss: 0.0414 - acc: 0.9867\n",
      "Epoch 8/10\n",
      "60000/60000 [==============================] - 97s 2ms/step - loss: 0.0364 - acc: 0.9885\n",
      "Epoch 9/10\n",
      "60000/60000 [==============================] - 102s 2ms/step - loss: 0.0320 - acc: 0.9899\n",
      "Epoch 10/10\n",
      " 4288/60000 [=>............................] - ETA: 1:38 - loss: 0.0234 - acc: 0.9928"
     ]
    }
   ],
   "source": [
    "#Train\n",
    "model.fit(X_train, Y_train, batch_size=32, epochs=10, verbose=1, callbacks=[tensorboard])"
   ]
  },
  {
   "cell_type": "code",
   "execution_count": null,
   "metadata": {
    "colab": {
     "autoexec": {
      "startup": false,
      "wait_interval": 0
     }
    },
    "colab_type": "code",
    "id": "AtsH-lLk-eLb"
   },
   "outputs": [],
   "source": [
    "#Evaluate\n",
    "score = model.evaluate(X_test, Y_test, verbose=1)\n",
    "print(score)\n",
    "print model.metrics_names"
   ]
  },
  {
   "cell_type": "markdown",
   "metadata": {},
   "source": [
    "## 3 of 4) Custom CNN Model - #2"
   ]
  },
  {
   "cell_type": "code",
   "execution_count": 17,
   "metadata": {},
   "outputs": [
    {
     "name": "stdout",
     "output_type": "stream",
     "text": [
      "_________________________________________________________________\n",
      "Layer (type)                 Output Shape              Param #   \n",
      "=================================================================\n",
      "conv2d_1 (Conv2D)            (None, 26, 26, 32)        320       \n",
      "_________________________________________________________________\n",
      "max_pooling2d_1 (MaxPooling2 (None, 13, 13, 32)        0         \n",
      "_________________________________________________________________\n",
      "conv2d_2 (Conv2D)            (None, 11, 11, 32)        9248      \n",
      "_________________________________________________________________\n",
      "max_pooling2d_2 (MaxPooling2 (None, 5, 5, 32)          0         \n",
      "_________________________________________________________________\n",
      "conv2d_3 (Conv2D)            (None, 5, 5, 10)          330       \n",
      "_________________________________________________________________\n",
      "conv2d_4 (Conv2D)            (None, 1, 1, 10)          2510      \n",
      "_________________________________________________________________\n",
      "flatten_1 (Flatten)          (None, 10)                0         \n",
      "_________________________________________________________________\n",
      "activation_1 (Activation)    (None, 10)                0         \n",
      "=================================================================\n",
      "Total params: 12,408\n",
      "Trainable params: 12,408\n",
      "Non-trainable params: 0\n",
      "_________________________________________________________________\n"
     ]
    }
   ],
   "source": [
    "model = keras.models.Sequential()\n",
    "\n",
    "model.add(keras.layers.Conv2D(32, (3, 3), activation='relu', input_shape=(28,28,1)))\n",
    "model.add(keras.layers.MaxPool2D(pool_size=(2, 2)))\n",
    "\n",
    "model.add(keras.layers.Conv2D(32, (3, 3), activation='relu'))\n",
    "model.add(keras.layers.MaxPool2D(pool_size=(2, 2)))\n",
    "\n",
    "model.add(keras.layers.Conv2D(10, (1, 1), activation='relu'))\n",
    "model.add(keras.layers.Conv2D(num_classes, 5))\n",
    "model.add(keras.layers.Flatten())\n",
    "model.add(keras.layers.Activation('softmax'))\n",
    "model.summary()"
   ]
  },
  {
   "cell_type": "code",
   "execution_count": 18,
   "metadata": {},
   "outputs": [],
   "source": [
    "#Compile model\n",
    "model.compile(loss='categorical_crossentropy',\n",
    "             optimizer='adam',\n",
    "             metrics=['accuracy'],\n",
    "             options=run_opts)"
   ]
  },
  {
   "cell_type": "code",
   "execution_count": 19,
   "metadata": {},
   "outputs": [
    {
     "name": "stdout",
     "output_type": "stream",
     "text": [
      "Epoch 1/10\n",
      "60000/60000 [==============================] - 24s 394us/step - loss: 0.2289 - acc: 0.9289\n",
      "Epoch 2/10\n",
      "60000/60000 [==============================] - 22s 372us/step - loss: 0.0754 - acc: 0.9778\n",
      "Epoch 3/10\n",
      "60000/60000 [==============================] - 22s 370us/step - loss: 0.0598 - acc: 0.9816\n",
      "Epoch 4/10\n",
      "60000/60000 [==============================] - 22s 374us/step - loss: 0.0508 - acc: 0.9844\n",
      "Epoch 5/10\n",
      "60000/60000 [==============================] - 22s 373us/step - loss: 0.0443 - acc: 0.9864\n",
      "Epoch 6/10\n",
      "60000/60000 [==============================] - 22s 373us/step - loss: 0.0396 - acc: 0.9880\n",
      "Epoch 7/10\n",
      "60000/60000 [==============================] - 22s 373us/step - loss: 0.0359 - acc: 0.9888\n",
      "Epoch 8/10\n",
      "60000/60000 [==============================] - 22s 373us/step - loss: 0.0323 - acc: 0.9899\n",
      "Epoch 9/10\n",
      "60000/60000 [==============================] - 22s 373us/step - loss: 0.0300 - acc: 0.9911\n",
      "Epoch 10/10\n",
      "60000/60000 [==============================] - 23s 377us/step - loss: 0.0266 - acc: 0.9915\n"
     ]
    },
    {
     "data": {
      "text/plain": [
       "<keras.callbacks.History at 0x7fbb512e81d0>"
      ]
     },
     "execution_count": 19,
     "metadata": {},
     "output_type": "execute_result"
    }
   ],
   "source": [
    "#Train\n",
    "model.fit(X_train, Y_train, batch_size=32, epochs=10, verbose=1, callbacks=[tensorboard])"
   ]
  },
  {
   "cell_type": "code",
   "execution_count": 20,
   "metadata": {
    "colab": {
     "autoexec": {
      "startup": false,
      "wait_interval": 0
     }
    },
    "colab_type": "code",
    "id": "AtsH-lLk-eLb"
   },
   "outputs": [
    {
     "name": "stdout",
     "output_type": "stream",
     "text": [
      "10000/10000 [==============================] - 2s 152us/step\n",
      "[0.03917756944763533, 0.9886]\n",
      "['loss', 'acc']\n"
     ]
    }
   ],
   "source": [
    "#Evaluate\n",
    "score = model.evaluate(X_test, Y_test, verbose=1)\n",
    "print(score)\n",
    "print model.metrics_names"
   ]
  },
  {
   "cell_type": "markdown",
   "metadata": {},
   "source": [
    "## 4 of 4) Custom CNN Model - #3"
   ]
  },
  {
   "cell_type": "code",
   "execution_count": 21,
   "metadata": {},
   "outputs": [
    {
     "name": "stdout",
     "output_type": "stream",
     "text": [
      "_________________________________________________________________\n",
      "Layer (type)                 Output Shape              Param #   \n",
      "=================================================================\n",
      "conv2d_5 (Conv2D)            (None, 26, 26, 32)        320       \n",
      "_________________________________________________________________\n",
      "max_pooling2d_3 (MaxPooling2 (None, 13, 13, 32)        0         \n",
      "_________________________________________________________________\n",
      "conv2d_6 (Conv2D)            (None, 11, 11, 16)        4624      \n",
      "_________________________________________________________________\n",
      "max_pooling2d_4 (MaxPooling2 (None, 5, 5, 16)          0         \n",
      "_________________________________________________________________\n",
      "conv2d_7 (Conv2D)            (None, 5, 5, 10)          170       \n",
      "_________________________________________________________________\n",
      "conv2d_8 (Conv2D)            (None, 1, 1, 10)          2510      \n",
      "_________________________________________________________________\n",
      "flatten_2 (Flatten)          (None, 10)                0         \n",
      "_________________________________________________________________\n",
      "activation_2 (Activation)    (None, 10)                0         \n",
      "=================================================================\n",
      "Total params: 7,624\n",
      "Trainable params: 7,624\n",
      "Non-trainable params: 0\n",
      "_________________________________________________________________\n"
     ]
    }
   ],
   "source": [
    "model = keras.models.Sequential()\n",
    "\n",
    "model.add(keras.layers.Conv2D(32, (3, 3), activation='relu', input_shape=(28,28,1)))\n",
    "model.add(keras.layers.MaxPool2D(pool_size=(2, 2)))\n",
    "\n",
    "model.add(keras.layers.Conv2D(16, (3, 3), activation='relu'))\n",
    "model.add(keras.layers.MaxPool2D(pool_size=(2, 2)))\n",
    "\n",
    "model.add(keras.layers.Conv2D(10, (1, 1), activation='relu'))\n",
    "model.add(keras.layers.Conv2D(num_classes, 5))\n",
    "model.add(keras.layers.Flatten())\n",
    "model.add(keras.layers.Activation('softmax'))\n",
    "model.summary()"
   ]
  },
  {
   "cell_type": "code",
   "execution_count": 22,
   "metadata": {},
   "outputs": [],
   "source": [
    "#Compile model\n",
    "model.compile(loss='categorical_crossentropy',\n",
    "             optimizer='adam',\n",
    "             metrics=['accuracy'],\n",
    "             options=run_opts)"
   ]
  },
  {
   "cell_type": "code",
   "execution_count": 23,
   "metadata": {},
   "outputs": [
    {
     "name": "stdout",
     "output_type": "stream",
     "text": [
      "Epoch 1/10\n",
      "60000/60000 [==============================] - 22s 367us/step - loss: 0.2444 - acc: 0.9276\n",
      "Epoch 2/10\n",
      "60000/60000 [==============================] - 21s 353us/step - loss: 0.0862 - acc: 0.9737\n",
      "Epoch 3/10\n",
      "60000/60000 [==============================] - 22s 362us/step - loss: 0.0663 - acc: 0.9798\n",
      "Epoch 4/10\n",
      "60000/60000 [==============================] - 21s 356us/step - loss: 0.0547 - acc: 0.9833\n",
      "Epoch 5/10\n",
      "60000/60000 [==============================] - 21s 358us/step - loss: 0.0485 - acc: 0.9847\n",
      "Epoch 6/10\n",
      "60000/60000 [==============================] - 21s 358us/step - loss: 0.0429 - acc: 0.9863\n",
      "Epoch 7/10\n",
      "60000/60000 [==============================] - 22s 364us/step - loss: 0.0380 - acc: 0.9875\n",
      "Epoch 8/10\n",
      "60000/60000 [==============================] - 22s 372us/step - loss: 0.0362 - acc: 0.9883\n",
      "Epoch 9/10\n",
      "60000/60000 [==============================] - 22s 374us/step - loss: 0.0325 - acc: 0.9896\n",
      "Epoch 10/10\n",
      "60000/60000 [==============================] - 23s 378us/step - loss: 0.0307 - acc: 0.9902\n"
     ]
    },
    {
     "data": {
      "text/plain": [
       "<keras.callbacks.History at 0x7fbb4bcc6b50>"
      ]
     },
     "execution_count": 23,
     "metadata": {},
     "output_type": "execute_result"
    }
   ],
   "source": [
    "#Train\n",
    "model.fit(X_train, Y_train, batch_size=32, epochs=10, verbose=1, callbacks=[tensorboard])"
   ]
  },
  {
   "cell_type": "code",
   "execution_count": 1,
   "metadata": {
    "colab": {
     "autoexec": {
      "startup": false,
      "wait_interval": 0
     }
    },
    "colab_type": "code",
    "id": "AtsH-lLk-eLb"
   },
   "outputs": [
    {
     "ename": "NameError",
     "evalue": "name 'model' is not defined",
     "output_type": "error",
     "traceback": [
      "\u001b[0;31m---------------------------------------------------------------------------\u001b[0m",
      "\u001b[0;31mNameError\u001b[0m                                 Traceback (most recent call last)",
      "\u001b[0;32m<ipython-input-1-05ef65ce1e0f>\u001b[0m in \u001b[0;36m<module>\u001b[0;34m()\u001b[0m\n\u001b[1;32m      1\u001b[0m \u001b[0;31m#Evaluate\u001b[0m\u001b[0;34m\u001b[0m\u001b[0;34m\u001b[0m\u001b[0m\n\u001b[0;32m----> 2\u001b[0;31m \u001b[0mscore\u001b[0m \u001b[0;34m=\u001b[0m \u001b[0mmodel\u001b[0m\u001b[0;34m.\u001b[0m\u001b[0mevaluate\u001b[0m\u001b[0;34m(\u001b[0m\u001b[0mX_test\u001b[0m\u001b[0;34m,\u001b[0m \u001b[0mY_test\u001b[0m\u001b[0;34m,\u001b[0m \u001b[0mverbose\u001b[0m\u001b[0;34m=\u001b[0m\u001b[0;36m1\u001b[0m\u001b[0;34m)\u001b[0m\u001b[0;34m\u001b[0m\u001b[0m\n\u001b[0m\u001b[1;32m      3\u001b[0m \u001b[0;32mprint\u001b[0m \u001b[0mzip\u001b[0m\u001b[0;34m(\u001b[0m\u001b[0mmodel\u001b[0m\u001b[0;34m.\u001b[0m\u001b[0mmetrics_names\u001b[0m\u001b[0;34m,\u001b[0m \u001b[0mscore\u001b[0m\u001b[0;34m)\u001b[0m\u001b[0;34m\u001b[0m\u001b[0m\n",
      "\u001b[0;31mNameError\u001b[0m: name 'model' is not defined"
     ]
    }
   ],
   "source": [
    "#Evaluate\n",
    "score = model.evaluate(X_test, Y_test, verbose=1)\n",
    "print zip(model.metrics_names, score)"
   ]
  },
  {
   "cell_type": "markdown",
   "metadata": {},
   "source": [
    "## 4 of 4) Custom CNN Model - #3"
   ]
  },
  {
   "cell_type": "code",
   "execution_count": 20,
   "metadata": {},
   "outputs": [
    {
     "name": "stdout",
     "output_type": "stream",
     "text": [
      "_________________________________________________________________\n",
      "Layer (type)                 Output Shape              Param #   \n",
      "=================================================================\n",
      "dense_2 (Dense)              (None, 28, 28, 512)       1024      \n",
      "_________________________________________________________________\n",
      "dense_3 (Dense)              (None, 28, 28, 10)        5130      \n",
      "_________________________________________________________________\n",
      "flatten_1 (Flatten)          (None, 7840)              0         \n",
      "_________________________________________________________________\n",
      "activation_1 (Activation)    (None, 7840)              0         \n",
      "=================================================================\n",
      "Total params: 6,154\n",
      "Trainable params: 6,154\n",
      "Non-trainable params: 0\n",
      "_________________________________________________________________\n"
     ]
    }
   ],
   "source": [
    "model = keras.models.Sequential()\n",
    "\n",
    "model.add(keras.layers.Dense(512,  activation='relu', input_shape=(28,28,1)))\n",
    "model.add(keras.layers.Dense(num_classes, activation='relu'))\n",
    "model.add(keras.layers.Flatten())\n",
    "model.add(keras.layers.Activation('softmax'))\n",
    "model.summary()"
   ]
  },
  {
   "cell_type": "code",
   "execution_count": 36,
   "metadata": {},
   "outputs": [
    {
     "name": "stdout",
     "output_type": "stream",
     "text": [
      "_________________________________________________________________\n",
      "Layer (type)                 Output Shape              Param #   \n",
      "=================================================================\n",
      "conv2d_32 (Conv2D)           (None, 26, 26, 16)        160       \n",
      "_________________________________________________________________\n",
      "max_pooling2d_4 (MaxPooling2 (None, 13, 13, 16)        0         \n",
      "_________________________________________________________________\n",
      "conv2d_33 (Conv2D)           (None, 11, 11, 32)        4640      \n",
      "_________________________________________________________________\n",
      "max_pooling2d_5 (MaxPooling2 (None, 5, 5, 32)          0         \n",
      "_________________________________________________________________\n",
      "conv2d_34 (Conv2D)           (None, 5, 5, 10)          330       \n",
      "_________________________________________________________________\n",
      "conv2d_35 (Conv2D)           (None, 1, 1, 10)          2510      \n",
      "_________________________________________________________________\n",
      "dense_12 (Dense)             (None, 1, 1, 512)         5632      \n",
      "_________________________________________________________________\n",
      "dense_13 (Dense)             (None, 1, 1, 10)          5130      \n",
      "_________________________________________________________________\n",
      "flatten_4 (Flatten)          (None, 10)                0         \n",
      "_________________________________________________________________\n",
      "activation_4 (Activation)    (None, 10)                0         \n",
      "=================================================================\n",
      "Total params: 18,402\n",
      "Trainable params: 18,402\n",
      "Non-trainable params: 0\n",
      "_________________________________________________________________\n"
     ]
    }
   ],
   "source": [
    "model = keras.models.Sequential()\n",
    "\n",
    "model.add(keras.layers.Conv2D(16, (3, 3), activation='relu', input_shape=(28,28,1)))\n",
    "model.add(keras.layers.MaxPool2D(pool_size=(2, 2)))\n",
    "\n",
    "model.add(keras.layers.Conv2D(32, (3, 3), activation='relu'))\n",
    "model.add(keras.layers.MaxPool2D(pool_size=(2, 2)))\n",
    "\n",
    "model.add(keras.layers.Conv2D(10, (1, 1), activation='relu'))\n",
    "model.add(keras.layers.Conv2D(10, 5, activation='relu'))\n",
    "\n",
    "model.add(keras.layers.Dense(512, activation='relu'))\n",
    "model.add(keras.layers.Dense(num_classes, activation='relu'))\n",
    "\n",
    "model.add(keras.layers.Flatten())\n",
    "model.add(keras.layers.Activation('softmax'))\n",
    "model.summary()"
   ]
  },
  {
   "cell_type": "code",
   "execution_count": 22,
   "metadata": {},
   "outputs": [],
   "source": [
    "#Compile model\n",
    "model.compile(loss='categorical_crossentropy',\n",
    "             optimizer='adam',\n",
    "             metrics=['accuracy'],\n",
    "             options=run_opts)"
   ]
  },
  {
   "cell_type": "code",
   "execution_count": 23,
   "metadata": {
    "scrolled": true
   },
   "outputs": [
    {
     "name": "stdout",
     "output_type": "stream",
     "text": [
      "Epoch 1/10\n",
      "60000/60000 [==============================] - 24s 403us/step - loss: 0.9790 - acc: 0.6266\n",
      "Epoch 2/10\n",
      "60000/60000 [==============================] - 22s 371us/step - loss: 0.7849 - acc: 0.6765\n",
      "Epoch 3/10\n",
      "60000/60000 [==============================] - 22s 371us/step - loss: 0.7648 - acc: 0.6814\n",
      "Epoch 4/10\n",
      "60000/60000 [==============================] - 22s 372us/step - loss: 0.7554 - acc: 0.6834\n",
      "Epoch 5/10\n",
      "60000/60000 [==============================] - 22s 372us/step - loss: 0.7487 - acc: 0.6853\n",
      "Epoch 6/10\n",
      "60000/60000 [==============================] - 22s 372us/step - loss: 0.7442 - acc: 0.6862\n",
      "Epoch 7/10\n",
      "60000/60000 [==============================] - 22s 371us/step - loss: 0.7402 - acc: 0.6871\n",
      "Epoch 8/10\n",
      "60000/60000 [==============================] - 22s 371us/step - loss: 0.7373 - acc: 0.6873\n",
      "Epoch 9/10\n",
      "60000/60000 [==============================] - 23s 380us/step - loss: 0.7363 - acc: 0.6877\n",
      "Epoch 10/10\n",
      "60000/60000 [==============================] - 24s 395us/step - loss: 0.7348 - acc: 0.6880\n"
     ]
    },
    {
     "data": {
      "text/plain": [
       "<keras.callbacks.History at 0x7fcb6e0941d0>"
      ]
     },
     "execution_count": 23,
     "metadata": {},
     "output_type": "execute_result"
    }
   ],
   "source": [
    "#Train\n",
    "model.fit(X_train, Y_train, batch_size=32, epochs=10, verbose=1, callbacks=[tensorboard])"
   ]
  },
  {
   "cell_type": "code",
   "execution_count": 24,
   "metadata": {
    "colab": {
     "autoexec": {
      "startup": false,
      "wait_interval": 0
     }
    },
    "colab_type": "code",
    "id": "AtsH-lLk-eLb"
   },
   "outputs": [
    {
     "name": "stdout",
     "output_type": "stream",
     "text": [
      "10000/10000 [==============================] - 1s 135us/step\n",
      "[0.7379497566223144, 0.6876]\n",
      "['loss', 'acc']\n"
     ]
    }
   ],
   "source": [
    "#Evaluate\n",
    "score = model.evaluate(X_test, Y_test, verbose=1)\n",
    "print(score)\n",
    "print model.metrics_names"
   ]
  }
 ],
 "metadata": {
  "accelerator": "GPU",
  "colab": {
   "collapsed_sections": [],
   "default_view": {},
   "name": "1st DNN.ipynb",
   "provenance": [
    {
     "file_id": "1JURGwe4e5Z7928Zv2eiJVPCQNc702huM",
     "timestamp": 1521864568638
    }
   ],
   "version": "0.3.2",
   "views": {}
  },
  "kernelspec": {
   "display_name": "Python 2",
   "language": "python",
   "name": "python2"
  },
  "language_info": {
   "codemirror_mode": {
    "name": "ipython",
    "version": 2
   },
   "file_extension": ".py",
   "mimetype": "text/x-python",
   "name": "python",
   "nbconvert_exporter": "python",
   "pygments_lexer": "ipython2",
   "version": "2.7.14"
  }
 },
 "nbformat": 4,
 "nbformat_minor": 1
}
